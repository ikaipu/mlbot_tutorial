{
 "cells": [
  {
   "cell_type": "markdown",
   "id": "9b366e41-270f-4e74-9ee3-603cdc359084",
   "metadata": {},
   "source": [
    "# Richman Non-Stationarity Score (Advanced Tutorial)\n",
    "\n",
    "This tutorial introduces the Richman non-stationarity score, developed by the author.\n",
    "It can be used for feature selection.\n",
    "\n",
    "## Preparation\n",
    "\n",
    "Create df_features.pkl by running https://github.com/richmanbtc/mlbot_tutorial/blob/master/work/tutorial.ipynb.\n",
    "\n",
    "Below, we use the Richman non-stationarity score to measure the non-stationarity of features.\n",
    "The Richman non-stationarity score is a metric developed by richmanbtc to measure the degree of non-stationarity.\n",
    "\n",
    "When features have low stationarity, generalization performance may deteriorate,\n",
    "so we perform feature engineering to keep the score low.\n",
    "A score of 0.3 or less is recommended.\n",
    "\n",
    "## Why Low Feature Distribution Stationarity Degrades Generalization Performance\n",
    "\n",
    "When feature distributions are stationary, we can expect the same distribution in the future.\n",
    "On the other hand, when they are non-stationary, feature distributions change over time,\n",
    "so future feature distributions may differ from those in the training data.\n",
    "In such cases, we end up predicting data not present in the training data,\n",
    "which may lead to performance degradation.\n",
    "\n",
    "## How to Calculate the Richman Non-Stationarity Score\n",
    "\n",
    "Required parameters: regression model, number of CV folds\n",
    "\n",
    "1. Using KFold CV with shuffling, calculate steps 2 and 3, and use the mean R2 as the Richman non-stationarity score\n",
    "2. Train the given regression model to predict sample indices (or time) from features\n",
    "3. Predict sample indices for validation data and evaluate prediction accuracy using R2\n",
    "\n",
    "In this example, we use lgbm with default parameters as the regression model and 2 folds for CV.\n",
    "\n",
    "## Feature Importance in Richman Non-Stationarity Score\n",
    "\n",
    "Tree-based models are convenient as they can display importance scores.\n",
    "High importance features are"
   ]
  }
 ],
 "metadata": {
  "kernelspec": {
   "display_name": "Python 3",
   "language": "python",
   "name": "python3"
  },
  "language_info": {
   "codemirror_mode": {
    "name": "ipython",
    "version": 3
   },
   "file_extension": ".py",
   "mimetype": "text/x-python",
   "name": "python",
   "nbconvert_exporter": "python",
   "pygments_lexer": "ipython3",
   "version": "3.8.0"
  }
 },
 "nbformat": 4,
 "nbformat_minor": 5
}
