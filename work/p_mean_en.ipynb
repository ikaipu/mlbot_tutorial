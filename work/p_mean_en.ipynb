{
 "cells": [
  {
   "cell_type": "markdown",
   "id": "afc716db-3fa3-48de-8192-08e4914beb35",
   "metadata": {},
   "source": [
    "# P-Mean Method (Under Construction)\n",
    "\n",
    "This is a method I developed independently.\n",
    "\n",
    "For trading performance testing, t-tests are commonly used.\n",
    "[Financial Machine Learning - Theory and Practice of Machine Learning Algorithms that Transform Financial Market Analysis](https://www.amazon.co.jp/dp/4322134637) also proposes methods like PSR (Probabilistic Sharpe Ratio) and DSR (Deflated Sharpe Ratio).\n",
    "\n",
    "The problem with these methods is that\n",
    "they are weak against long-term changes in returns.\n",
    "For example, if you had great positive returns 3 years ago but negative returns in the recent year, future success is questionable.\n",
    "However, these methods might still indicate stable profitability.\n",
    "This is because they don't consider the order of samples.\n",
    "\n",
    "To mitigate this problem, I developed the p-mean method.\n",
    "Here's how it works.\n",
    "Lower p-value averages are better.\n",
    "\n",
    "1. Split the return time series into N periods\n",
    "2. Calculate p-values using t-tests for each period\n",
    "3. Take the average of the N p-values obtained\n",
    "4. Use the average p-value for evaluation\n",
    "\n",
    "While I haven't analyzed it in detail,\n",
    "if there's even one large p-value,\n",
    "the p-mean becomes large,\n",
    "so it only becomes significant when\n",
    "there are stable profits across all periods.\n",
    "I think this is the key point.\n",
    "\n",
    "The p-mean method is calculated using calc_p_mean,\n",
    "and its error rate is calculated using calc_p_mean_type1_error_rate.\n",
    "\n",
    "### Why the P-Mean Method Mitigates the Problem\n",
    "\n",
    "Fundamentally, applying t-tests when returns change over the long term is inappropriate.\n",
    "This is because t-tests assume returns are sampled independently from the same distribution regardless of time.\n",
    "The p-mean method also ultimately uses t-tests, so this inappropriateness isn't completely resolved.\n",
    "However, since we apply t-tests to each period separately,\n",
    "it's easier to satisfy the assumption of sampling from the same distribution within short periods,\n",
    "which I think somewhat reduces the inappropriateness.\n",
    "\n",
    "### Distribution Shift Problem\n",
    "\n",
    "Since the p-mean method tests each period separately,\n",
    "it can be tested in various market conditions (bull markets, bear markets, shocks, etc.)\n",
    "\n",
    "For example, if you have no Lehman Shock-like events in your training data,\n",
    "you'll lose when experiencing such an event.\n",
    "Consider stress scenarios."
   ]
  },
  {
   "cell_type": "code",
   "execution_count": null,
   "id": "initial-setup",
   "metadata": {},
   "outputs": [],
   "source": []
  }
 ],
 "metadata": {
  "kernelspec": {
   "display_name": "Python 3",
   "language": "python",
   "name": "python3"
  },
  "language_info": {
   "codemirror_mode": {
    "name": "ipython",
    "version": 3
   },
   "file_extension": ".py",
   "mimetype": "text/x-python",
   "name": "python",
   "nbconvert_exporter": "python",
   "pygments_lexer": "ipython3",
   "version": "3.8.0"
  }
 },
 "nbformat": 4,
 "nbformat_minor": 5
}
