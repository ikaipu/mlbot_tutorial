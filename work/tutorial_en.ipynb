{
 "cells": [
  {
   "cell_type": "markdown",
   "id": "5cb0f828-0a6a-4469-a183-146a1b436689",
   "metadata": {},
   "source": [
    "# MLBot Tutorial\n",
    "\n",
    "This tutorial demonstrates how to create a trading bot using machine learning.\n",
    "We'll use GMO Coin's BTC/JPY leveraged trading data for this example."
   ]
  },
  {
   "cell_type": "code",
   "execution_count": null,
   "id": "fd37eccc-69df-4176-a848-2871f80aba58",
   "metadata": {},
   "outputs": [],
   "source": [
    "memory = joblib.Memory('/tmp/gmo_fetcher_cache', verbose=0)\n",
    "fetcher = GmoFetcher(memory=memory)\n",
    "\n",
    "# Fetch GMO Coin's BTC/JPY leveraged trading data (https://api.coin.z.com/data/trades/BTC_JPY/)\n",
    "# First download may take some time\n",
    "df = fetcher.fetch_ohlcv(\n",
    "    market='BTC_JPY', # Specify market symbol\n",
    "    interval_sec=15 * 60, # Specify interval in seconds. In this case, 15-minute intervals\n",
    ")\n",
    "\n",
    "# Limit the data period for our experiment\n",
    "df = df[df.index < pd.to_datetime('2021-04-01 00:00:00Z')]\n",
    "\n",
    "display(df)\n",
    "df.to_pickle('df_ohlcv.pkl')"
   ]
  },
  {
   "cell_type": "markdown",
   "id": "a1612bc2-c83b-4a34-b882-72e92dcef2fa",
   "metadata": {},
   "source": [
    "## Adding Maker Fee Column\n",
    "\n",
    "In the following code, we'll add a maker fee column (fee).\n",
    "Since GMO Coin has changed their fees several times in the past,\n",
    "we need the fee information for each timestamp to perform accurate backtesting.\n",
    "Since this tutorial only uses limit (maker) orders, we'll only add maker fees.\n",
    "\n",
    "We manually collected fee change timings and values from GMO Coin's past news announcements.\n",
    "The fee changes appear to have been implemented after regular maintenance periods.\n",
    "Regular maintenance is conducted from 15:00 to 16:00 JST (06:00 to 07:00 UTC)."
   ]
  },
  {
   "cell_type": "code",
   "execution_count": null,
   "id": "705a8659-2f63-4cc5-a0a3-cc9a2a236455",
   "metadata": {},
   "outputs": [],
   "source": [
    "maker_fee_history = [\n",
    "    {\n",
    "        # https://coin.z.com/jp/news/2020/08/6482/\n",
    "        # Time not specified in announcement, assuming after regular maintenance\n",
    "        'changed_at': '2020/08/05 06:00:00Z',\n",
    "        'maker_fee': -0.00035\n",
    "    },\n",
    "    {\n",
    "        # https://coin.z.com/jp/news/2020/08/6541/\n",
    "        'changed_at': '2020/09/09 06:00:00Z',\n",
    "        'maker_fee': -0.00025\n",
    "    },\n",
    "    {\n",
    "        # https://coin.z.com/jp/news/2020/10/6686/\n",
    "        'changed_at': '2020/11/04 06:00:00Z',\n",
    "        'maker_fee': 0.0\n",
    "    },\n",
    "]\n",
    "\n",
    "df = pd.read_pickle('df_ohlcv.pkl')\n",
    "\n",
    "# Initial fee\n",
    "# https://web.archive.org/web/20180930223704/https://coin.z.com/jp/corp/guide/fees/\n",
    "df['fee'] = 0.0\n",
    "\n",
    "for config in maker_fee_history:\n",
    "    df.loc[pd.to_datetime(config['changed_at']) <= df.index, 'fee'] = config['maker_fee']\n",
    "\n",
    "df['fee'].plot()\n",
    "plt.title('Maker Fee History')\n",
    "plt.show()\n",
    "    \n",
    "display(df)\n",
    "df.to_pickle('df_ohlcv_with_fee.pkl')"
   ]
  },
  {
   "cell_type": "markdown",
   "id": "22e9777a-8c5a-43c1-b7e5-1c228658ed40",
   "metadata": {},
   "source": [
    "## Feature Engineering\n",
    "\n",
    "In the following code, we'll use [TA-Lib](https://mrjbq7.github.io/ta-lib/) to create technical indicators as features.\n",
    "We haven't put too much thought into the meaning of these features.\n",
    "We're simply adding all available features from TA-Lib.\n",
    "However, there are some important points to keep in mind:\n",
    "\n",
    "### Important Considerations for Features\n",
    "\n",
    "#### Avoid Using Future Information\n",
    "\n",
    "Future information cannot be used in live trading.\n",
    "Also, including future information often dramatically improves prediction accuracy,\n",
    "which leads to unrealistic backtesting results.\n",
    "\n",
    "For example, if we use a simple moving average (SMA), we need to be careful about the calculation method.\n",
    "Some implementations calculate the average of n data points centered on the current time,\n",
    "which means they use future data points. We must use only past data points for our calculations.\n",
    "\n",
    "#### Handle Missing Values\n",
    "\n",
    "Technical indicators often create missing values (NaN).\n",
    "For example, when calculating a 20-period moving average,\n",
    "the first 19 values will be NaN because there isn't enough historical data.\n",
    "\n",
    "We need to handle these missing values appropriately.\n",
    "In this tutorial, we'll simply remove rows with missing values.\n",
    "\n",
    "#### Feature Scaling\n",
    "\n",
    "Different features can have vastly different scales.\n",
    "For example, BTC price might be in millions (of JPY),\n",
    "while RSI values range from 0 to 100.\n",
    "\n",
    "Machine learning algorithms generally perform better when features are on similar scales.\n",
    "Therefore, we'll normalize our features."
   ]
  }
 ],
 "metadata": {
  "kernelspec": {
   "display_name": "Python 3 (ipykernel)",
   "language": "python",
   "name": "python3"
  },
  "language_info": {
   "codemirror_mode": {
    "name": "ipython",
    "version": 3
   },
   "file_extension": ".py",
   "mimetype": "text/x-python",
   "name": "python",
   "nbconvert_exporter": "python",
   "pygments_lexer": "ipython3",
   "version": "3.8.0"
  }
 },
 "nbformat": 4,
 "nbformat_minor": 5
}
